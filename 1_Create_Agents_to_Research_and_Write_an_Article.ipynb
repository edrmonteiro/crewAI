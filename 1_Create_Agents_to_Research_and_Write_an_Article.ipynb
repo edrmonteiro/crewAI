{
 "cells": [
  {
   "cell_type": "markdown",
   "metadata": {},
   "source": [
    "You can download the `requirements.txt` for this course from the workspace of this lab. `File --> Open...`"
   ]
  },
  {
   "cell_type": "markdown",
   "metadata": {},
   "source": [
    "# L2: Create Agents to Research and Write an Article\n",
    "\n",
    "In this lesson, you will be introduced to the foundational concepts of multi-agent systems and get an overview of the crewAI framework."
   ]
  },
  {
   "cell_type": "markdown",
   "metadata": {},
   "source": [
    "The libraries are already installed in the classroom. If you're running this notebook on your own machine, you can install the following:\n",
    "```Python\n",
    "!pip install crewai==0.28.8 crewai_tools==0.1.6 langchain_community==0.0.29\n",
    "```"
   ]
  },
  {
   "cell_type": "code",
   "execution_count": 2,
   "metadata": {
    "height": 64
   },
   "outputs": [],
   "source": [
    "# Warning control\n",
    "import warnings\n",
    "warnings.filterwarnings('ignore')"
   ]
  },
  {
   "cell_type": "markdown",
   "metadata": {},
   "source": [
    "- Import from the crewAI libray."
   ]
  },
  {
   "cell_type": "code",
   "execution_count": 1,
   "metadata": {
    "height": 30
   },
   "outputs": [],
   "source": [
    "from crewai import Agent, Task, Crew"
   ]
  },
  {
   "cell_type": "markdown",
   "metadata": {},
   "source": [
    "- As a LLM for your agents, you'll be using OpenAI's `gpt-3.5-turbo`.\n",
    "\n",
    "**Optional Note:** crewAI also allow other popular models to be used as a LLM for your Agents. You can see some of the examples at the [bottom of the notebook](#1)."
   ]
  },
  {
   "cell_type": "code",
   "execution_count": 5,
   "metadata": {
    "height": 98
   },
   "outputs": [],
   "source": [
    "import os\n",
    "\n",
    "openai_api_key = os.environ[\"OPENAI_API_KEY\"]\n",
    "os.environ[\"OPENAI_MODEL_NAME\"] = 'gpt-3.5-turbo'"
   ]
  },
  {
   "cell_type": "markdown",
   "metadata": {},
   "source": [
    "## Creating Agents\n",
    "\n",
    "- Define your Agents, and provide them a `role`, `goal` and `backstory`.\n",
    "- It has been seen that LLMs perform better when they are role playing."
   ]
  },
  {
   "cell_type": "markdown",
   "metadata": {},
   "source": [
    "### Agent: Planner\n",
    "\n",
    "**Note**: The benefit of using _multiple strings_ :\n",
    "```Python\n",
    "varname = \"line 1 of text\"\n",
    "          \"line 2 of text\"\n",
    "```\n",
    "\n",
    "versus the _triple quote docstring_:\n",
    "```Python\n",
    "varname = \"\"\"line 1 of text\n",
    "             line 2 of text\n",
    "          \"\"\"\n",
    "```\n",
    "is that it can avoid adding those whitespaces and newline characters, making it better formatted to be passed to the LLM."
   ]
  },
  {
   "cell_type": "code",
   "execution_count": 6,
   "metadata": {
    "height": 251
   },
   "outputs": [],
   "source": [
    "planner = Agent(\n",
    "    role=\"Content Planner\",\n",
    "    goal=\"Plan engaging and factually accurate content on {topic}\",\n",
    "    backstory=\"You're working on planning a blog article \"\n",
    "              \"about the topic: {topic}.\"\n",
    "              \"You collect information that helps the \"\n",
    "              \"audience learn something \"\n",
    "              \"and make informed decisions. \"\n",
    "              \"Your work is the basis for \"\n",
    "              \"the Content Writer to write an article on this topic.\",\n",
    "    allow_delegation=False,\n",
    "\tverbose=True\n",
    ")"
   ]
  },
  {
   "cell_type": "markdown",
   "metadata": {},
   "source": [
    "### Agent: Writer"
   ]
  },
  {
   "cell_type": "code",
   "execution_count": 7,
   "metadata": {
    "height": 370
   },
   "outputs": [],
   "source": [
    "writer = Agent(\n",
    "    role=\"Content Writer\",\n",
    "    goal=\"Write insightful and factually accurate \"\n",
    "         \"opinion piece about the topic: {topic}\",\n",
    "    backstory=\"You're working on a writing \"\n",
    "              \"a new opinion piece about the topic: {topic}. \"\n",
    "              \"You base your writing on the work of \"\n",
    "              \"the Content Planner, who provides an outline \"\n",
    "              \"and relevant context about the topic. \"\n",
    "              \"You follow the main objectives and \"\n",
    "              \"direction of the outline, \"\n",
    "              \"as provide by the Content Planner. \"\n",
    "              \"You also provide objective and impartial insights \"\n",
    "              \"and back them up with information \"\n",
    "              \"provide by the Content Planner. \"\n",
    "              \"You acknowledge in your opinion piece \"\n",
    "              \"when your statements are opinions \"\n",
    "              \"as opposed to objective statements.\",\n",
    "    allow_delegation=False,\n",
    "    verbose=True\n",
    ")"
   ]
  },
  {
   "cell_type": "markdown",
   "metadata": {},
   "source": [
    "### Agent: Editor"
   ]
  },
  {
   "cell_type": "code",
   "execution_count": 8,
   "metadata": {
    "height": 285
   },
   "outputs": [],
   "source": [
    "editor = Agent(\n",
    "    role=\"Editor\",\n",
    "    goal=\"Edit a given blog post to align with \"\n",
    "         \"the writing style of the organization. \",\n",
    "    backstory=\"You are an editor who receives a blog post \"\n",
    "              \"from the Content Writer. \"\n",
    "              \"Your goal is to review the blog post \"\n",
    "              \"to ensure that it follows journalistic best practices,\"\n",
    "              \"provides balanced viewpoints \"\n",
    "              \"when providing opinions or assertions, \"\n",
    "              \"and also avoids major controversial topics \"\n",
    "              \"or opinions when possible.\",\n",
    "    allow_delegation=False,\n",
    "    verbose=True\n",
    ")"
   ]
  },
  {
   "cell_type": "markdown",
   "metadata": {},
   "source": [
    "## Creating Tasks\n",
    "\n",
    "- Define your Tasks, and provide them a `description`, `expected_output` and `agent`."
   ]
  },
  {
   "cell_type": "markdown",
   "metadata": {},
   "source": [
    "### Task: Plan"
   ]
  },
  {
   "cell_type": "code",
   "execution_count": 9,
   "metadata": {
    "height": 268
   },
   "outputs": [],
   "source": [
    "plan = Task(\n",
    "    description=(\n",
    "        \"1. Prioritize the latest trends, key players, \"\n",
    "            \"and noteworthy news on {topic}.\\n\"\n",
    "        \"2. Identify the target audience, considering \"\n",
    "            \"their interests and pain points.\\n\"\n",
    "        \"3. Develop a detailed content outline including \"\n",
    "            \"an introduction, key points, and a call to action.\\n\"\n",
    "        \"4. Include SEO keywords and relevant data or sources.\"\n",
    "    ),\n",
    "    expected_output=\"A comprehensive content plan document \"\n",
    "        \"with an outline, audience analysis, \"\n",
    "        \"SEO keywords, and resources.\",\n",
    "    agent=planner,\n",
    ")"
   ]
  },
  {
   "cell_type": "markdown",
   "metadata": {},
   "source": [
    "### Task: Write"
   ]
  },
  {
   "cell_type": "code",
   "execution_count": 10,
   "metadata": {
    "height": 319
   },
   "outputs": [],
   "source": [
    "write = Task(\n",
    "    description=(\n",
    "        \"1. Use the content plan to craft a compelling \"\n",
    "            \"blog post on {topic}.\\n\"\n",
    "        \"2. Incorporate SEO keywords naturally.\\n\"\n",
    "\t\t\"3. Sections/Subtitles are properly named \"\n",
    "            \"in an engaging manner.\\n\"\n",
    "        \"4. Ensure the post is structured with an \"\n",
    "            \"engaging introduction, insightful body, \"\n",
    "            \"and a summarizing conclusion.\\n\"\n",
    "        \"5. Proofread for grammatical errors and \"\n",
    "            \"alignment with the brand's voice.\\n\"\n",
    "    ),\n",
    "    expected_output=\"A well-written blog post \"\n",
    "        \"in markdown format, ready for publication, \"\n",
    "        \"each section should have 2 or 3 paragraphs.\",\n",
    "    agent=writer,\n",
    ")"
   ]
  },
  {
   "cell_type": "markdown",
   "metadata": {},
   "source": [
    "### Task: Edit"
   ]
  },
  {
   "cell_type": "code",
   "execution_count": 11,
   "metadata": {
    "height": 166
   },
   "outputs": [],
   "source": [
    "edit = Task(\n",
    "    description=(\"Proofread the given blog post for \"\n",
    "                 \"grammatical errors and \"\n",
    "                 \"alignment with the brand's voice.\"),\n",
    "    expected_output=\"A well-written blog post in markdown format, \"\n",
    "                    \"ready for publication, \"\n",
    "                    \"each section should have 2 or 3 paragraphs.\",\n",
    "    agent=editor\n",
    ")"
   ]
  },
  {
   "cell_type": "markdown",
   "metadata": {},
   "source": [
    "## Creating the Crew\n",
    "\n",
    "- Create your crew of Agents\n",
    "- Pass the tasks to be performed by those agents.\n",
    "    - **Note**: *For this simple example*, the tasks will be performed sequentially (i.e they are dependent on each other), so the _order_ of the task in the list _matters_.\n",
    "- `verbose=2` allows you to see all the logs of the execution. "
   ]
  },
  {
   "cell_type": "code",
   "execution_count": 12,
   "metadata": {
    "height": 98
   },
   "outputs": [],
   "source": [
    "crew = Crew(\n",
    "    agents=[planner, writer, editor],\n",
    "    tasks=[plan, write, edit],\n",
    "    verbose=2\n",
    ")"
   ]
  },
  {
   "cell_type": "markdown",
   "metadata": {},
   "source": [
    "## Running the Crew"
   ]
  },
  {
   "cell_type": "markdown",
   "metadata": {},
   "source": [
    "**Note**: LLMs can provide different outputs for they same input, so what you get might be different than what you see in the video."
   ]
  },
  {
   "cell_type": "code",
   "execution_count": 15,
   "metadata": {
    "height": 30
   },
   "outputs": [
    {
     "name": "stdout",
     "output_type": "stream",
     "text": [
      "\u001b[1m\u001b[95m [DEBUG]: == Working Agent: Content Planner\u001b[00m\n",
      "\u001b[1m\u001b[95m [INFO]: == Starting Task: 1. Prioritize the latest trends, key players, and noteworthy news on Artificial Intelligence.\n",
      "2. Identify the target audience, considering their interests and pain points.\n",
      "3. Develop a detailed content outline including an introduction, key points, and a call to action.\n",
      "4. Include SEO keywords and relevant data or sources.\u001b[00m\n",
      "\n",
      "\n",
      "\u001b[1m> Entering new CrewAgentExecutor chain...\u001b[0m\n",
      "\u001b[32;1m\u001b[1;3mI now can give a great answer\n",
      "\n",
      "Final Answer: \n",
      "\n",
      "Title: Exploring the Latest Trends in Artificial Intelligence\n",
      "\n",
      "Outline:\n",
      "I. Introduction\n",
      "- Definition of Artificial Intelligence\n",
      "- Importance of AI in various industries\n",
      "- Brief overview of the latest trends in AI\n",
      "\n",
      "II. Latest Trends in Artificial Intelligence\n",
      "A. Machine Learning\n",
      "- Advancements in deep learning algorithms\n",
      "- Applications in healthcare, finance, and marketing\n",
      "- Examples of successful ML projects\n",
      "\n",
      "B. Natural Language Processing (NLP)\n",
      "- Growth of chatbots and virtual assistants\n",
      "- Sentiment analysis and language translation\n",
      "- Ethical considerations in NLP development\n",
      "\n",
      "C. Computer Vision\n",
      "- Progress in image recognition and object detection\n",
      "- Impact on autonomous vehicles and surveillance systems\n",
      "- Challenges in developing accurate computer vision models\n",
      "\n",
      "III. Key Players in the AI Industry\n",
      "A. Tech Giants\n",
      "- Google, Amazon, Microsoft, and Apple\n",
      "- Investments in AI research and development\n",
      "- Collaborations with startups and academic institutions\n",
      "\n",
      "B. Startups and Innovators\n",
      "- Emerging AI companies disrupting traditional industries\n",
      "- Focus on niche AI applications like predictive analytics and personalized recommendations\n",
      "- Importance of agility and innovation in the AI market\n",
      "\n",
      "IV. Noteworthy News in Artificial Intelligence\n",
      "A. Breakthroughs in AI research\n",
      "- Achievements in reinforcement learning and generative models\n",
      "- Implications for future AI technologies and applications\n",
      "\n",
      "B. Regulatory Updates\n",
      "- Government policies on AI ethics and transparency\n",
      "- Impact of regulations on AI development and deployment\n",
      "- Compliance requirements for AI companies and organizations\n",
      "\n",
      "V. Target Audience Analysis\n",
      "- Professionals in technology and innovation\n",
      "- Decision-makers in business and industry\n",
      "- Students and researchers interested in AI advancements\n",
      "- General audience curious about the future of technology\n",
      "\n",
      "VI. SEO Keywords\n",
      "- Artificial Intelligence trends 2021\n",
      "- Latest developments in AI technology\n",
      "- Key players in the AI industry\n",
      "- Noteworthy news in artificial intelligence\n",
      "\n",
      "VII. Resources\n",
      "- Research papers and academic journals on AI trends\n",
      "- Industry reports and market analysis on AI innovations\n",
      "- Interviews with AI experts and thought leaders\n",
      "- Online platforms for AI news and updates\n",
      "\n",
      "Call to Action:\n",
      "Stay informed about the latest trends and advancements in Artificial Intelligence by subscribing to our newsletter and following us on social media. Join the conversation on AI ethics, innovation, and industry insights. Don't miss out on the future of AI technology!\u001b[0m\n",
      "\n",
      "\u001b[1m> Finished chain.\u001b[0m\n",
      "\u001b[1m\u001b[92m [DEBUG]: == [Content Planner] Task output: Title: Exploring the Latest Trends in Artificial Intelligence\n",
      "\n",
      "Outline:\n",
      "I. Introduction\n",
      "- Definition of Artificial Intelligence\n",
      "- Importance of AI in various industries\n",
      "- Brief overview of the latest trends in AI\n",
      "\n",
      "II. Latest Trends in Artificial Intelligence\n",
      "A. Machine Learning\n",
      "- Advancements in deep learning algorithms\n",
      "- Applications in healthcare, finance, and marketing\n",
      "- Examples of successful ML projects\n",
      "\n",
      "B. Natural Language Processing (NLP)\n",
      "- Growth of chatbots and virtual assistants\n",
      "- Sentiment analysis and language translation\n",
      "- Ethical considerations in NLP development\n",
      "\n",
      "C. Computer Vision\n",
      "- Progress in image recognition and object detection\n",
      "- Impact on autonomous vehicles and surveillance systems\n",
      "- Challenges in developing accurate computer vision models\n",
      "\n",
      "III. Key Players in the AI Industry\n",
      "A. Tech Giants\n",
      "- Google, Amazon, Microsoft, and Apple\n",
      "- Investments in AI research and development\n",
      "- Collaborations with startups and academic institutions\n",
      "\n",
      "B. Startups and Innovators\n",
      "- Emerging AI companies disrupting traditional industries\n",
      "- Focus on niche AI applications like predictive analytics and personalized recommendations\n",
      "- Importance of agility and innovation in the AI market\n",
      "\n",
      "IV. Noteworthy News in Artificial Intelligence\n",
      "A. Breakthroughs in AI research\n",
      "- Achievements in reinforcement learning and generative models\n",
      "- Implications for future AI technologies and applications\n",
      "\n",
      "B. Regulatory Updates\n",
      "- Government policies on AI ethics and transparency\n",
      "- Impact of regulations on AI development and deployment\n",
      "- Compliance requirements for AI companies and organizations\n",
      "\n",
      "V. Target Audience Analysis\n",
      "- Professionals in technology and innovation\n",
      "- Decision-makers in business and industry\n",
      "- Students and researchers interested in AI advancements\n",
      "- General audience curious about the future of technology\n",
      "\n",
      "VI. SEO Keywords\n",
      "- Artificial Intelligence trends 2021\n",
      "- Latest developments in AI technology\n",
      "- Key players in the AI industry\n",
      "- Noteworthy news in artificial intelligence\n",
      "\n",
      "VII. Resources\n",
      "- Research papers and academic journals on AI trends\n",
      "- Industry reports and market analysis on AI innovations\n",
      "- Interviews with AI experts and thought leaders\n",
      "- Online platforms for AI news and updates\n",
      "\n",
      "Call to Action:\n",
      "Stay informed about the latest trends and advancements in Artificial Intelligence by subscribing to our newsletter and following us on social media. Join the conversation on AI ethics, innovation, and industry insights. Don't miss out on the future of AI technology!\n",
      "\n",
      "\u001b[00m\n",
      "\u001b[1m\u001b[95m [DEBUG]: == Working Agent: Content Writer\u001b[00m\n",
      "\u001b[1m\u001b[95m [INFO]: == Starting Task: 1. Use the content plan to craft a compelling blog post on Artificial Intelligence.\n",
      "2. Incorporate SEO keywords naturally.\n",
      "3. Sections/Subtitles are properly named in an engaging manner.\n",
      "4. Ensure the post is structured with an engaging introduction, insightful body, and a summarizing conclusion.\n",
      "5. Proofread for grammatical errors and alignment with the brand's voice.\n",
      "\u001b[00m\n",
      "\n",
      "\n",
      "\u001b[1m> Entering new CrewAgentExecutor chain...\u001b[0m\n",
      "\u001b[32;1m\u001b[1;3mI now can give a great answer\n",
      "\n",
      "Final Answer: \n",
      "\n",
      "# Exploring the Latest Trends in Artificial Intelligence\n",
      "\n",
      "## Introduction\n",
      "Artificial Intelligence (AI) has become a pivotal technology shaping the future of various industries. Defined as the simulation of human intelligence processes by machines, AI has revolutionized the way businesses operate and interact with customers. The latest trends in AI reflect the rapid advancements in machine learning, natural language processing, and computer vision, leading to innovative solutions that enhance efficiency and productivity across sectors.\n",
      "\n",
      "## Latest Trends in Artificial Intelligence\n",
      "\n",
      "### Machine Learning\n",
      "Machine Learning (ML) stands at the forefront of AI innovation, with significant advancements in deep learning algorithms driving breakthrough applications in healthcare, finance, and marketing. ML projects such as personalized medicine, fraud detection, and targeted advertising showcase the power of AI to analyze vast amounts of data and make informed decisions in real-time.\n",
      "\n",
      "### Natural Language Processing (NLP)\n",
      "The growth of NLP technologies has fueled the rise of chatbots and virtual assistants, transforming customer service and communication channels. Sentiment analysis and language translation capabilities enable businesses to understand and engage with users on a deeper level. However, ethical considerations surrounding data privacy and bias in NLP development remain critical challenges to address.\n",
      "\n",
      "### Computer Vision\n",
      "Computer Vision has made remarkable progress in image recognition and object detection, driving advancements in autonomous vehicles and surveillance systems. The ability of AI to interpret visual data and analyze complex scenes has opened up new possibilities for enhancing safety and security. Despite these achievements, developing accurate computer vision models that can reliably identify objects in diverse environments remains a key area of focus.\n",
      "\n",
      "## Key Players in the AI Industry\n",
      "\n",
      "### Tech Giants\n",
      "Industry leaders such as Google, Amazon, Microsoft, and Apple continue to invest heavily in AI research and development, driving innovation and collaboration across sectors. These tech giants are at the forefront of shaping the future of AI technologies through strategic partnerships with startups and academic institutions.\n",
      "\n",
      "### Startups and Innovators\n",
      "Emerging AI companies are disrupting traditional industries with niche applications in predictive analytics and personalized recommendations. The agility and innovation demonstrated by startups in the AI market highlight the importance of staying ahead of trends and adapting to evolving consumer demands.\n",
      "\n",
      "## Noteworthy News in Artificial Intelligence\n",
      "\n",
      "### Breakthroughs in AI Research\n",
      "Recent achievements in reinforcement learning and generative models have paved the way for exciting advancements in AI technologies. These breakthroughs have significant implications for the future of AI applications, from autonomous systems to creative content generation.\n",
      "\n",
      "### Regulatory Updates\n",
      "Government policies on AI ethics and transparency are shaping the regulatory landscape for AI development and deployment. Compliance requirements for AI companies and organizations are becoming increasingly stringent, emphasizing the need for responsible and ethical AI practices.\n",
      "\n",
      "## Target Audience Analysis\n",
      "Professionals in technology and innovation, decision-makers in business and industry, students and researchers interested in AI advancements, and the general audience curious about the future of technology comprise the target audience for AI trends and insights. Stay informed about the latest developments in AI technology by following industry news and engaging with thought leaders in the field.\n",
      "\n",
      "## Call to Action\n",
      "Stay informed about the latest trends and advancements in Artificial Intelligence by subscribing to our newsletter and following us on social media. Join the conversation on AI ethics, innovation, and industry insights. Don't miss out on the future of AI technology!\u001b[0m\n",
      "\n",
      "\u001b[1m> Finished chain.\u001b[0m\n",
      "\u001b[1m\u001b[92m [DEBUG]: == [Content Writer] Task output: # Exploring the Latest Trends in Artificial Intelligence\n",
      "\n",
      "## Introduction\n",
      "Artificial Intelligence (AI) has become a pivotal technology shaping the future of various industries. Defined as the simulation of human intelligence processes by machines, AI has revolutionized the way businesses operate and interact with customers. The latest trends in AI reflect the rapid advancements in machine learning, natural language processing, and computer vision, leading to innovative solutions that enhance efficiency and productivity across sectors.\n",
      "\n",
      "## Latest Trends in Artificial Intelligence\n",
      "\n",
      "### Machine Learning\n",
      "Machine Learning (ML) stands at the forefront of AI innovation, with significant advancements in deep learning algorithms driving breakthrough applications in healthcare, finance, and marketing. ML projects such as personalized medicine, fraud detection, and targeted advertising showcase the power of AI to analyze vast amounts of data and make informed decisions in real-time.\n",
      "\n",
      "### Natural Language Processing (NLP)\n",
      "The growth of NLP technologies has fueled the rise of chatbots and virtual assistants, transforming customer service and communication channels. Sentiment analysis and language translation capabilities enable businesses to understand and engage with users on a deeper level. However, ethical considerations surrounding data privacy and bias in NLP development remain critical challenges to address.\n",
      "\n",
      "### Computer Vision\n",
      "Computer Vision has made remarkable progress in image recognition and object detection, driving advancements in autonomous vehicles and surveillance systems. The ability of AI to interpret visual data and analyze complex scenes has opened up new possibilities for enhancing safety and security. Despite these achievements, developing accurate computer vision models that can reliably identify objects in diverse environments remains a key area of focus.\n",
      "\n",
      "## Key Players in the AI Industry\n",
      "\n",
      "### Tech Giants\n",
      "Industry leaders such as Google, Amazon, Microsoft, and Apple continue to invest heavily in AI research and development, driving innovation and collaboration across sectors. These tech giants are at the forefront of shaping the future of AI technologies through strategic partnerships with startups and academic institutions.\n",
      "\n",
      "### Startups and Innovators\n",
      "Emerging AI companies are disrupting traditional industries with niche applications in predictive analytics and personalized recommendations. The agility and innovation demonstrated by startups in the AI market highlight the importance of staying ahead of trends and adapting to evolving consumer demands.\n",
      "\n",
      "## Noteworthy News in Artificial Intelligence\n",
      "\n",
      "### Breakthroughs in AI Research\n",
      "Recent achievements in reinforcement learning and generative models have paved the way for exciting advancements in AI technologies. These breakthroughs have significant implications for the future of AI applications, from autonomous systems to creative content generation.\n",
      "\n",
      "### Regulatory Updates\n",
      "Government policies on AI ethics and transparency are shaping the regulatory landscape for AI development and deployment. Compliance requirements for AI companies and organizations are becoming increasingly stringent, emphasizing the need for responsible and ethical AI practices.\n",
      "\n",
      "## Target Audience Analysis\n",
      "Professionals in technology and innovation, decision-makers in business and industry, students and researchers interested in AI advancements, and the general audience curious about the future of technology comprise the target audience for AI trends and insights. Stay informed about the latest developments in AI technology by following industry news and engaging with thought leaders in the field.\n",
      "\n",
      "## Call to Action\n",
      "Stay informed about the latest trends and advancements in Artificial Intelligence by subscribing to our newsletter and following us on social media. Join the conversation on AI ethics, innovation, and industry insights. Don't miss out on the future of AI technology!\n",
      "\n",
      "\u001b[00m\n",
      "\u001b[1m\u001b[95m [DEBUG]: == Working Agent: Editor\u001b[00m\n",
      "\u001b[1m\u001b[95m [INFO]: == Starting Task: Proofread the given blog post for grammatical errors and alignment with the brand's voice.\u001b[00m\n",
      "\n",
      "\n",
      "\u001b[1m> Entering new CrewAgentExecutor chain...\u001b[0m\n",
      "\u001b[32;1m\u001b[1;3mI now can give a great answer\n",
      "\n",
      "Final Answer:\n",
      "# Exploring the Latest Trends in Artificial Intelligence\n",
      "\n",
      "## Introduction\n",
      "Artificial Intelligence (AI) has become a pivotal technology shaping the future of various industries. Defined as the simulation of human intelligence processes by machines, AI has revolutionized the way businesses operate and interact with customers. The latest trends in AI reflect the rapid advancements in machine learning, natural language processing, and computer vision, leading to innovative solutions that enhance efficiency and productivity across sectors.\n",
      "\n",
      "## Latest Trends in Artificial Intelligence\n",
      "\n",
      "### Machine Learning\n",
      "Machine Learning (ML) stands at the forefront of AI innovation, with significant advancements in deep learning algorithms driving breakthrough applications in healthcare, finance, and marketing. ML projects such as personalized medicine, fraud detection, and targeted advertising showcase the power of AI to analyze vast amounts of data and make informed decisions in real-time.\n",
      "\n",
      "### Natural Language Processing (NLP)\n",
      "The growth of NLP technologies has fueled the rise of chatbots and virtual assistants, transforming customer service and communication channels. Sentiment analysis and language translation capabilities enable businesses to understand and engage with users on a deeper level. However, ethical considerations surrounding data privacy and bias in NLP development remain critical challenges to address.\n",
      "\n",
      "### Computer Vision\n",
      "Computer Vision has made remarkable progress in image recognition and object detection, driving advancements in autonomous vehicles and surveillance systems. The ability of AI to interpret visual data and analyze complex scenes has opened up new possibilities for enhancing safety and security. Despite these achievements, developing accurate computer vision models that can reliably identify objects in diverse environments remains a key area of focus.\n",
      "\n",
      "## Key Players in the AI Industry\n",
      "\n",
      "### Tech Giants\n",
      "Industry leaders such as Google, Amazon, Microsoft, and Apple continue to invest heavily in AI research and development, driving innovation and collaboration across sectors. These tech giants are at the forefront of shaping the future of AI technologies through strategic partnerships with startups and academic institutions.\n",
      "\n",
      "### Startups and Innovators\n",
      "Emerging AI companies are disrupting traditional industries with niche applications in predictive analytics and personalized recommendations. The agility and innovation demonstrated by startups in the AI market highlight the importance of staying ahead of trends and adapting to evolving consumer demands.\n",
      "\n",
      "## Noteworthy News in Artificial Intelligence\n",
      "\n",
      "### Breakthroughs in AI Research\n",
      "Recent achievements in reinforcement learning and generative models have paved the way for exciting advancements in AI technologies. These breakthroughs have significant implications for the future of AI applications, from autonomous systems to creative content generation.\n",
      "\n",
      "### Regulatory Updates\n",
      "Government policies on AI ethics and transparency are shaping the regulatory landscape for AI development and deployment. Compliance requirements for AI companies and organizations are becoming increasingly stringent, emphasizing the need for responsible and ethical AI practices.\n",
      "\n",
      "## Target Audience Analysis\n",
      "Professionals in technology and innovation, decision-makers in business and industry, students and researchers interested in AI advancements, and the general audience curious about the future of technology comprise the target audience for AI trends and insights. Stay informed about the latest developments in AI technology by following industry news and engaging with thought leaders in the field.\n",
      "\n",
      "## Call to Action\n",
      "Stay informed about the latest trends and advancements in Artificial Intelligence by subscribing to our newsletter and following us on social media. Join the conversation on AI ethics, innovation, and industry insights. Don't miss out on the future of AI technology!\u001b[0m\n",
      "\n",
      "\u001b[1m> Finished chain.\u001b[0m\n",
      "\u001b[1m\u001b[92m [DEBUG]: == [Editor] Task output: # Exploring the Latest Trends in Artificial Intelligence\n",
      "\n",
      "## Introduction\n",
      "Artificial Intelligence (AI) has become a pivotal technology shaping the future of various industries. Defined as the simulation of human intelligence processes by machines, AI has revolutionized the way businesses operate and interact with customers. The latest trends in AI reflect the rapid advancements in machine learning, natural language processing, and computer vision, leading to innovative solutions that enhance efficiency and productivity across sectors.\n",
      "\n",
      "## Latest Trends in Artificial Intelligence\n",
      "\n",
      "### Machine Learning\n",
      "Machine Learning (ML) stands at the forefront of AI innovation, with significant advancements in deep learning algorithms driving breakthrough applications in healthcare, finance, and marketing. ML projects such as personalized medicine, fraud detection, and targeted advertising showcase the power of AI to analyze vast amounts of data and make informed decisions in real-time.\n",
      "\n",
      "### Natural Language Processing (NLP)\n",
      "The growth of NLP technologies has fueled the rise of chatbots and virtual assistants, transforming customer service and communication channels. Sentiment analysis and language translation capabilities enable businesses to understand and engage with users on a deeper level. However, ethical considerations surrounding data privacy and bias in NLP development remain critical challenges to address.\n",
      "\n",
      "### Computer Vision\n",
      "Computer Vision has made remarkable progress in image recognition and object detection, driving advancements in autonomous vehicles and surveillance systems. The ability of AI to interpret visual data and analyze complex scenes has opened up new possibilities for enhancing safety and security. Despite these achievements, developing accurate computer vision models that can reliably identify objects in diverse environments remains a key area of focus.\n",
      "\n",
      "## Key Players in the AI Industry\n",
      "\n",
      "### Tech Giants\n",
      "Industry leaders such as Google, Amazon, Microsoft, and Apple continue to invest heavily in AI research and development, driving innovation and collaboration across sectors. These tech giants are at the forefront of shaping the future of AI technologies through strategic partnerships with startups and academic institutions.\n",
      "\n",
      "### Startups and Innovators\n",
      "Emerging AI companies are disrupting traditional industries with niche applications in predictive analytics and personalized recommendations. The agility and innovation demonstrated by startups in the AI market highlight the importance of staying ahead of trends and adapting to evolving consumer demands.\n",
      "\n",
      "## Noteworthy News in Artificial Intelligence\n",
      "\n",
      "### Breakthroughs in AI Research\n",
      "Recent achievements in reinforcement learning and generative models have paved the way for exciting advancements in AI technologies. These breakthroughs have significant implications for the future of AI applications, from autonomous systems to creative content generation.\n",
      "\n",
      "### Regulatory Updates\n",
      "Government policies on AI ethics and transparency are shaping the regulatory landscape for AI development and deployment. Compliance requirements for AI companies and organizations are becoming increasingly stringent, emphasizing the need for responsible and ethical AI practices.\n",
      "\n",
      "## Target Audience Analysis\n",
      "Professionals in technology and innovation, decision-makers in business and industry, students and researchers interested in AI advancements, and the general audience curious about the future of technology comprise the target audience for AI trends and insights. Stay informed about the latest developments in AI technology by following industry news and engaging with thought leaders in the field.\n",
      "\n",
      "## Call to Action\n",
      "Stay informed about the latest trends and advancements in Artificial Intelligence by subscribing to our newsletter and following us on social media. Join the conversation on AI ethics, innovation, and industry insights. Don't miss out on the future of AI technology!\n",
      "\n",
      "\u001b[00m\n"
     ]
    }
   ],
   "source": [
    "result = crew.kickoff(inputs={\"topic\": \"Artificial Intelligence\"})"
   ]
  },
  {
   "cell_type": "markdown",
   "metadata": {},
   "source": [
    "- Display the results of your execution as markdown in the notebook."
   ]
  },
  {
   "cell_type": "code",
   "execution_count": 16,
   "metadata": {
    "height": 47
   },
   "outputs": [
    {
     "data": {
      "text/markdown": [
       "# Exploring the Latest Trends in Artificial Intelligence\n",
       "\n",
       "## Introduction\n",
       "Artificial Intelligence (AI) has become a pivotal technology shaping the future of various industries. Defined as the simulation of human intelligence processes by machines, AI has revolutionized the way businesses operate and interact with customers. The latest trends in AI reflect the rapid advancements in machine learning, natural language processing, and computer vision, leading to innovative solutions that enhance efficiency and productivity across sectors.\n",
       "\n",
       "## Latest Trends in Artificial Intelligence\n",
       "\n",
       "### Machine Learning\n",
       "Machine Learning (ML) stands at the forefront of AI innovation, with significant advancements in deep learning algorithms driving breakthrough applications in healthcare, finance, and marketing. ML projects such as personalized medicine, fraud detection, and targeted advertising showcase the power of AI to analyze vast amounts of data and make informed decisions in real-time.\n",
       "\n",
       "### Natural Language Processing (NLP)\n",
       "The growth of NLP technologies has fueled the rise of chatbots and virtual assistants, transforming customer service and communication channels. Sentiment analysis and language translation capabilities enable businesses to understand and engage with users on a deeper level. However, ethical considerations surrounding data privacy and bias in NLP development remain critical challenges to address.\n",
       "\n",
       "### Computer Vision\n",
       "Computer Vision has made remarkable progress in image recognition and object detection, driving advancements in autonomous vehicles and surveillance systems. The ability of AI to interpret visual data and analyze complex scenes has opened up new possibilities for enhancing safety and security. Despite these achievements, developing accurate computer vision models that can reliably identify objects in diverse environments remains a key area of focus.\n",
       "\n",
       "## Key Players in the AI Industry\n",
       "\n",
       "### Tech Giants\n",
       "Industry leaders such as Google, Amazon, Microsoft, and Apple continue to invest heavily in AI research and development, driving innovation and collaboration across sectors. These tech giants are at the forefront of shaping the future of AI technologies through strategic partnerships with startups and academic institutions.\n",
       "\n",
       "### Startups and Innovators\n",
       "Emerging AI companies are disrupting traditional industries with niche applications in predictive analytics and personalized recommendations. The agility and innovation demonstrated by startups in the AI market highlight the importance of staying ahead of trends and adapting to evolving consumer demands.\n",
       "\n",
       "## Noteworthy News in Artificial Intelligence\n",
       "\n",
       "### Breakthroughs in AI Research\n",
       "Recent achievements in reinforcement learning and generative models have paved the way for exciting advancements in AI technologies. These breakthroughs have significant implications for the future of AI applications, from autonomous systems to creative content generation.\n",
       "\n",
       "### Regulatory Updates\n",
       "Government policies on AI ethics and transparency are shaping the regulatory landscape for AI development and deployment. Compliance requirements for AI companies and organizations are becoming increasingly stringent, emphasizing the need for responsible and ethical AI practices.\n",
       "\n",
       "## Target Audience Analysis\n",
       "Professionals in technology and innovation, decision-makers in business and industry, students and researchers interested in AI advancements, and the general audience curious about the future of technology comprise the target audience for AI trends and insights. Stay informed about the latest developments in AI technology by following industry news and engaging with thought leaders in the field.\n",
       "\n",
       "## Call to Action\n",
       "Stay informed about the latest trends and advancements in Artificial Intelligence by subscribing to our newsletter and following us on social media. Join the conversation on AI ethics, innovation, and industry insights. Don't miss out on the future of AI technology!"
      ],
      "text/plain": [
       "<IPython.core.display.Markdown object>"
      ]
     },
     "execution_count": 16,
     "metadata": {},
     "output_type": "execute_result"
    }
   ],
   "source": [
    "from IPython.display import Markdown\n",
    "Markdown(result)"
   ]
  },
  {
   "cell_type": "markdown",
   "metadata": {},
   "source": [
    "## Try it Yourself\n",
    "\n",
    "- Pass in a topic of your choice and see what the agents come up with!"
   ]
  },
  {
   "cell_type": "code",
   "execution_count": null,
   "metadata": {
    "height": 47
   },
   "outputs": [],
   "source": [
    "topic = \"YOUR TOPIC HERE\"\n",
    "result = crew.kickoff(inputs={\"topic\": topic})"
   ]
  },
  {
   "cell_type": "code",
   "execution_count": null,
   "metadata": {
    "height": 30
   },
   "outputs": [],
   "source": [
    "Markdown(result)"
   ]
  },
  {
   "cell_type": "markdown",
   "metadata": {},
   "source": [
    "<a name='1'></a>\n",
    " ## Other Popular Models as LLM for your Agents"
   ]
  },
  {
   "cell_type": "markdown",
   "metadata": {},
   "source": [
    "#### Hugging Face (HuggingFaceHub endpoint)\n",
    "\n",
    "```Python\n",
    "from langchain_community.llms import HuggingFaceHub\n",
    "\n",
    "llm = HuggingFaceHub(\n",
    "    repo_id=\"HuggingFaceH4/zephyr-7b-beta\",\n",
    "    huggingfacehub_api_token=\"<HF_TOKEN_HERE>\",\n",
    "    task=\"text-generation\",\n",
    ")\n",
    "\n",
    "### you will pass \"llm\" to your agent function\n",
    "```"
   ]
  },
  {
   "cell_type": "markdown",
   "metadata": {},
   "source": [
    "#### Mistral API\n",
    "\n",
    "```Python\n",
    "OPENAI_API_KEY=your-mistral-api-key\n",
    "OPENAI_API_BASE=https://api.mistral.ai/v1\n",
    "OPENAI_MODEL_NAME=\"mistral-small\"\n",
    "```"
   ]
  },
  {
   "cell_type": "markdown",
   "metadata": {},
   "source": [
    "#### Cohere\n",
    "\n",
    "```Python\n",
    "from langchain_community.chat_models import ChatCohere\n",
    "# Initialize language model\n",
    "os.environ[\"COHERE_API_KEY\"] = \"your-cohere-api-key\"\n",
    "llm = ChatCohere()\n",
    "\n",
    "### you will pass \"llm\" to your agent function\n",
    "```"
   ]
  },
  {
   "cell_type": "markdown",
   "metadata": {},
   "source": [
    "### For using Llama locally with Ollama and more, checkout the crewAI documentation on [Connecting to any LLM](https://docs.crewai.com/how-to/LLM-Connections/)."
   ]
  },
  {
   "cell_type": "code",
   "execution_count": null,
   "metadata": {
    "height": 30
   },
   "outputs": [],
   "source": []
  },
  {
   "cell_type": "code",
   "execution_count": null,
   "metadata": {
    "height": 30
   },
   "outputs": [],
   "source": []
  },
  {
   "cell_type": "code",
   "execution_count": null,
   "metadata": {
    "height": 30
   },
   "outputs": [],
   "source": []
  }
 ],
 "metadata": {
  "colab": {
   "gpuType": "T4",
   "provenance": []
  },
  "kernelspec": {
   "display_name": "Python 3 (ipykernel)",
   "language": "python",
   "name": "python3"
  },
  "language_info": {
   "codemirror_mode": {
    "name": "ipython",
    "version": 3
   },
   "file_extension": ".py",
   "mimetype": "text/x-python",
   "name": "python",
   "nbconvert_exporter": "python",
   "pygments_lexer": "ipython3",
   "version": "3.11.4"
  }
 },
 "nbformat": 4,
 "nbformat_minor": 4
}
